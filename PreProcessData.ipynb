{
 "cells": [
  {
   "cell_type": "code",
   "execution_count": 25,
   "id": "86d72295",
   "metadata": {},
   "outputs": [],
   "source": [
    "from one.api import ONE\n",
    "import numpy as np\n",
    "import brainbox\n",
    "import pandas as pd"
   ]
  },
  {
   "cell_type": "code",
   "execution_count": 19,
   "id": "42c69afa",
   "metadata": {
    "scrolled": true
   },
   "outputs": [
    {
     "name": "stdout",
     "output_type": "stream",
     "text": [
      "['alf/_ibl_bodyCamera.dlc.pqt', 'alf/_ibl_bodyCamera.times.npy', 'alf/_ibl_leftCamera.dlc.pqt', 'alf/_ibl_leftCamera.features.pqt', 'alf/_ibl_leftCamera.times.npy', 'alf/_ibl_rightCamera.dlc.pqt', 'alf/_ibl_rightCamera.features.pqt', 'alf/_ibl_rightCamera.times.npy', 'alf/_ibl_trials.goCueTrigger_times.npy', 'alf/_ibl_trials.stimOff_times.npy', 'alf/_ibl_trials.table.pqt', 'alf/_ibl_wheel.position.npy', 'alf/_ibl_wheel.timestamps.npy', 'alf/_ibl_wheelMoves.intervals.npy', 'alf/_ibl_wheelMoves.peakAmplitude.npy', 'alf/bodyCamera.ROIMotionEnergy.npy', 'alf/bodyROIMotionEnergy.position.npy', 'alf/leftCamera.ROIMotionEnergy.npy', 'alf/leftROIMotionEnergy.position.npy', 'alf/licks.times.npy', 'alf/probe00/electrodeSites.brainLocationIds_ccf_2017.npy', 'alf/probe00/electrodeSites.localCoordinates.npy', 'alf/probe00/electrodeSites.mlapdv.npy', 'alf/probe00/pykilosort/_ibl_log.info_pykilosort.log', 'alf/probe00/pykilosort/_kilosort_whitening.matrix.npy', 'alf/probe00/pykilosort/_phy_spikes_subset.channels.npy', 'alf/probe00/pykilosort/_phy_spikes_subset.spikes.npy', 'alf/probe00/pykilosort/_phy_spikes_subset.waveforms.npy', 'alf/probe00/pykilosort/channels.brainLocationIds_ccf_2017.npy', 'alf/probe00/pykilosort/channels.localCoordinates.npy', 'alf/probe00/pykilosort/channels.mlapdv.npy', 'alf/probe00/pykilosort/channels.rawInd.npy', 'alf/probe00/pykilosort/clusters.amps.npy', 'alf/probe00/pykilosort/clusters.channels.npy', 'alf/probe00/pykilosort/clusters.depths.npy', 'alf/probe00/pykilosort/clusters.metrics.pqt', 'alf/probe00/pykilosort/clusters.peakToTrough.npy', 'alf/probe00/pykilosort/clusters.uuids.csv', 'alf/probe00/pykilosort/clusters.waveforms.npy', 'alf/probe00/pykilosort/clusters.waveformsChannels.npy', 'alf/probe00/pykilosort/drift.times.npy', 'alf/probe00/pykilosort/drift.um.npy', 'alf/probe00/pykilosort/drift_depths.um.npy', 'alf/probe00/pykilosort/spikes.amps.npy', 'alf/probe00/pykilosort/spikes.clusters.npy', 'alf/probe00/pykilosort/spikes.depths.npy', 'alf/probe00/pykilosort/spikes.samples.npy', 'alf/probe00/pykilosort/spikes.templates.npy', 'alf/probe00/pykilosort/spikes.times.npy', 'alf/probe00/pykilosort/templates.amps.npy', 'alf/probe00/pykilosort/templates.waveforms.npy', 'alf/probe00/pykilosort/templates.waveformsChannels.npy', 'alf/probes.description.json', 'alf/rightCamera.ROIMotionEnergy.npy', 'alf/rightROIMotionEnergy.position.npy', 'raw_ephys_data/_spikeglx_ephysData_g0_t0.nidq.cbin', 'raw_ephys_data/_spikeglx_ephysData_g0_t0.nidq.ch', 'raw_ephys_data/_spikeglx_ephysData_g0_t0.nidq.meta', 'raw_ephys_data/_spikeglx_sync.channels.npy', 'raw_ephys_data/_spikeglx_sync.polarities.npy', 'raw_ephys_data/_spikeglx_sync.times.npy', 'raw_ephys_data/probe00/_iblqc_ephysChannels.apRMS.npy', 'raw_ephys_data/probe00/_iblqc_ephysSpectralDensityAP.freqs.npy', 'raw_ephys_data/probe00/_iblqc_ephysSpectralDensityAP.power.npy', 'raw_ephys_data/probe00/_iblqc_ephysSpectralDensityLF.freqs.npy', 'raw_ephys_data/probe00/_iblqc_ephysSpectralDensityLF.power.npy', 'raw_ephys_data/probe00/_iblqc_ephysTimeRmsLF.rms.npy', 'raw_ephys_data/probe00/_iblqc_ephysTimeRmsLF.timestamps.npy', 'raw_ephys_data/probe00/_spikeglx_ephysData_g0_t0.imec0.ap.cbin', 'raw_ephys_data/probe00/_spikeglx_ephysData_g0_t0.imec0.ap.ch', 'raw_ephys_data/probe00/_spikeglx_ephysData_g0_t0.imec0.ap.meta', 'raw_ephys_data/probe00/_spikeglx_ephysData_g0_t0.imec0.lf.cbin', 'raw_ephys_data/probe00/_spikeglx_ephysData_g0_t0.imec0.lf.ch', 'raw_ephys_data/probe00/_spikeglx_ephysData_g0_t0.imec0.lf.meta', 'raw_ephys_data/probe00/_spikeglx_ephysData_g0_t0.imec0.sync.npy', 'raw_ephys_data/probe00/_spikeglx_ephysData_g0_t0.imec0.timestamps.npy', 'raw_ephys_data/probe00/_spikeglx_ephysData_g0_t0.imec0.wiring.json', 'raw_ephys_data/probe00/_spikeglx_sync.channels.probe00.npy', 'raw_ephys_data/probe00/_spikeglx_sync.polarities.probe00.npy', 'raw_ephys_data/probe00/_spikeglx_sync.times.probe00.npy', 'raw_video_data/_iblrig_bodyCamera.raw.mp4', 'raw_video_data/_iblrig_leftCamera.raw.mp4', 'raw_video_data/_iblrig_rightCamera.raw.mp4']\n"
     ]
    }
   ],
   "source": [
    "#Load rasters\n",
    "\n",
    "from one.api import ONE\n",
    "one = ONE(base_url='https://openalyx.internationalbrainlab.org', password='international', silent=True)\n",
    "eid = '58b1e920-cfc8-467e-b28b-7654a55d0977'\n",
    "dsets = one.list_datasets(eid)\n",
    "print(dsets)"
   ]
  },
  {
   "cell_type": "code",
   "execution_count": 22,
   "id": "b65ef011",
   "metadata": {
    "scrolled": true
   },
   "outputs": [
    {
     "name": "stdout",
     "output_type": "stream",
     "text": [
      "alf/_ibl_trials.goCueTrigger_times.npy\n",
      "alf/_ibl_trials.stimOff_times.npy\n",
      "alf/_ibl_trials.table.pqt\n"
     ]
    }
   ],
   "source": [
    "import re\n",
    "for d in dsets:\n",
    "    if re.search('trials', d)!=None:\n",
    "        print(d)"
   ]
  },
  {
   "cell_type": "code",
   "execution_count": 23,
   "id": "07f62eba",
   "metadata": {
    "scrolled": true
   },
   "outputs": [
    {
     "name": "stderr",
     "output_type": "stream",
     "text": [
      "/home/maria/Downloads/ONE/openalyx.internationalbrainlab.org/wittenlab/Subjects/ibl_witten_29/2021-06-19/001/alf/_ibl_trials.table.pqt: 100%|██████████| 58.4k/58.4k [00:00<00:00, 66.9kB/s]"
     ]
    },
    {
     "name": "stdout",
     "output_type": "stream",
     "text": [
      "         feedback_times  choice  feedbackType  contrastLeft  rewardVolume  \\\n",
      "trial_#                                                                     \n",
      "0             77.552936      -1             1           NaN           1.5   \n",
      "1             82.317826      -1             1           NaN           1.5   \n",
      "2             88.602187      -1            -1        0.0000           0.0   \n",
      "3             97.802736      -1             1           NaN           1.5   \n",
      "4            102.626654      -1             1           NaN           1.5   \n",
      "...                 ...     ...           ...           ...           ...   \n",
      "723         3536.388917       1             1        1.0000           1.5   \n",
      "724         3555.066952      -1            -1        0.0000           0.0   \n",
      "725         3605.015008      -1            -1        0.0625           0.0   \n",
      "726         3657.927180      -1             1           NaN           1.5   \n",
      "727         5088.099369       0            -1        0.0625           0.0   \n",
      "\n",
      "         contrastRight  probabilityLeft  stimOn_times  firstMovement_times  \\\n",
      "trial_#                                                                      \n",
      "0                1.000              0.5     77.225604            77.401133   \n",
      "1                0.125              0.5     81.963164            82.053133   \n",
      "2                  NaN              0.5     87.008824            87.948133   \n",
      "3                0.125              0.5     93.029780            97.716133   \n",
      "4                0.250              0.5    102.346284           102.378133   \n",
      "...                ...              ...           ...                  ...   \n",
      "723                NaN              0.8   3535.351194          3535.693133   \n",
      "724                NaN              0.8   3542.013348          3554.850133   \n",
      "725                NaN              0.8   3559.496911          3604.885133   \n",
      "726              0.250              0.8   3610.483423          3656.454133   \n",
      "727                NaN              0.8   3667.716133          3761.881133   \n",
      "\n",
      "         goCue_times  response_times  intervals_0  intervals_1  \n",
      "trial_#                                                         \n",
      "0          77.226671       77.552815    73.331821    79.108915  \n",
      "1          81.964264       82.317712    79.645112    83.879815  \n",
      "2          87.009858       88.601121    84.320712    91.158328  \n",
      "3          93.030780       97.802648    91.656927    99.358056  \n",
      "4         102.347317      102.626545    99.807755   104.196043  \n",
      "...              ...             ...          ...          ...  \n",
      "723      3535.352194     3536.388810  3534.902709  3537.934814  \n",
      "724      3542.014448     3555.066150  3538.916313  3557.634459  \n",
      "725      3559.497878     3605.013918  3558.739359  3607.562624  \n",
      "726      3610.484223     3657.927091  3608.928123  3659.495695  \n",
      "727      3667.717466     3727.717489  3660.901295  3730.217495  \n",
      "\n",
      "[728 rows x 13 columns]\n"
     ]
    },
    {
     "name": "stderr",
     "output_type": "stream",
     "text": [
      "\n"
     ]
    }
   ],
   "source": [
    "dat = one.load_dataset(eid, 'alf/_ibl_trials.table.pqt')\n",
    "print(dat)"
   ]
  },
  {
   "cell_type": "code",
   "execution_count": 29,
   "id": "facfd695",
   "metadata": {
    "scrolled": true
   },
   "outputs": [
    {
     "name": "stdout",
     "output_type": "stream",
     "text": [
      "Int64Index([ 14,  23,  24,  39,  42,  50,  68,  72,  74,  76,  94,  98, 104,\n",
      "            109, 110, 114, 118, 122, 129, 137, 143, 161, 181, 204, 235, 242,\n",
      "            246, 254, 260, 262, 269, 276, 280, 286, 291, 295, 299, 303, 304,\n",
      "            306, 311, 349, 367, 373, 378, 387, 388, 392, 396, 399, 408, 412,\n",
      "            415, 416, 449, 450, 475, 498, 500, 503, 511, 513, 528, 559, 603,\n",
      "            609, 610, 624, 639, 651, 673, 681, 694, 719, 723],\n",
      "           dtype='int64', name='trial_#')\n"
     ]
    }
   ],
   "source": [
    "df=pd.DataFrame(dat)\n",
    "trials=df.loc[(df['choice'] == 1) & (df['contrastLeft'] == 1.0)].index\n",
    "print(trials)"
   ]
  },
  {
   "cell_type": "code",
   "execution_count": 31,
   "id": "f85f4c2e",
   "metadata": {},
   "outputs": [
    {
     "name": "stdout",
     "output_type": "stream",
     "text": [
      "alf/probe00/pykilosort/_phy_spikes_subset.channels.npy\n",
      "alf/probe00/pykilosort/_phy_spikes_subset.spikes.npy\n",
      "alf/probe00/pykilosort/_phy_spikes_subset.waveforms.npy\n",
      "alf/probe00/pykilosort/spikes.amps.npy\n",
      "alf/probe00/pykilosort/spikes.clusters.npy\n",
      "alf/probe00/pykilosort/spikes.depths.npy\n",
      "alf/probe00/pykilosort/spikes.samples.npy\n",
      "alf/probe00/pykilosort/spikes.templates.npy\n",
      "alf/probe00/pykilosort/spikes.times.npy\n"
     ]
    }
   ],
   "source": [
    "import re\n",
    "for d in dsets:\n",
    "    if re.search('spikes', d)!=None:\n",
    "        print(d)"
   ]
  },
  {
   "cell_type": "code",
   "execution_count": 34,
   "id": "4feb6275",
   "metadata": {
    "scrolled": true
   },
   "outputs": [
    {
     "name": "stderr",
     "output_type": "stream",
     "text": [
      "/home/maria/Downloads/ONE/openalyx.internationalbrainlab.org/wittenlab/Subjects/ibl_witten_29/2021-06-19/001/alf/probe00/pykilosort/spikes.times.npy: 100%|██████████| 43.8M/43.8M [00:07<00:00, 5.63MB/s]\n",
      "/home/maria/Downloads/ONE/openalyx.internationalbrainlab.org/wittenlab/Subjects/ibl_witten_29/2021-06-19/001/alf/probe00/pykilosort/spikes.amps.npy: 100%|██████████| 43.8M/43.8M [00:12<00:00, 3.55MB/s]\n",
      "/home/maria/Downloads/ONE/openalyx.internationalbrainlab.org/wittenlab/Subjects/ibl_witten_29/2021-06-19/001/alf/probe00/pykilosort/spikes.depths.npy: 100%|██████████| 43.8M/43.8M [00:08<00:00, 5.30MB/s]\n"
     ]
    }
   ],
   "source": [
    "spike_times=dat = one.load_dataset(eid, 'alf/probe00/pykilosort/spikes.times.npy')\n",
    "spike_amps=dat = one.load_dataset(eid, 'alf/probe00/pykilosort/spikes.amps.npy')\n",
    "spike_depths=one.load_dataset(eid, 'alf/probe00/pykilosort/spikes.depths.npy')"
   ]
  },
  {
   "cell_type": "code",
   "execution_count": 39,
   "id": "0f277b42",
   "metadata": {},
   "outputs": [
    {
     "ename": "AttributeError",
     "evalue": "module 'brainbox' has no attribute 'scatter_raster_plot'",
     "output_type": "error",
     "traceback": [
      "\u001b[0;31m---------------------------------------------------------------------------\u001b[0m",
      "\u001b[0;31mAttributeError\u001b[0m                            Traceback (most recent call last)",
      "\u001b[0;32m<ipython-input-39-a9dd61e2d828>\u001b[0m in \u001b[0;36m<module>\u001b[0;34m\u001b[0m\n\u001b[0;32m----> 1\u001b[0;31m \u001b[0mbrainbox\u001b[0m\u001b[0;34m.\u001b[0m\u001b[0mscatter_raster_plot\u001b[0m\u001b[0;34m(\u001b[0m\u001b[0mspike_amps\u001b[0m\u001b[0;34m,\u001b[0m \u001b[0mspike_depths\u001b[0m\u001b[0;34m,\u001b[0m \u001b[0mspike_times\u001b[0m\u001b[0;34m,\u001b[0m \u001b[0mn_amp_bins\u001b[0m\u001b[0;34m=\u001b[0m\u001b[0;36m10\u001b[0m\u001b[0;34m,\u001b[0m \u001b[0mcmap\u001b[0m\u001b[0;34m=\u001b[0m\u001b[0;34m'BuPu'\u001b[0m\u001b[0;34m,\u001b[0m \u001b[0msubsample_factor\u001b[0m\u001b[0;34m=\u001b[0m\u001b[0;36m100\u001b[0m\u001b[0;34m,\u001b[0m \u001b[0mdisplay\u001b[0m\u001b[0;34m=\u001b[0m\u001b[0;32mFalse\u001b[0m\u001b[0;34m,\u001b[0m \u001b[0mtitle\u001b[0m\u001b[0;34m=\u001b[0m\u001b[0;32mNone\u001b[0m\u001b[0;34m,\u001b[0m \u001b[0;34m**\u001b[0m\u001b[0mkwargs\u001b[0m\u001b[0;34m)\u001b[0m\u001b[0;34m\u001b[0m\u001b[0;34m\u001b[0m\u001b[0m\n\u001b[0m",
      "\u001b[0;31mAttributeError\u001b[0m: module 'brainbox' has no attribute 'scatter_raster_plot'"
     ]
    }
   ],
   "source": [
    "brainbox.scatter_raster_plot(spike_amps, spike_depths, spike_times, n_amp_bins=10, cmap='BuPu', subsample_factor=100, display=False, title=None, **kwargs)"
   ]
  },
  {
   "cell_type": "code",
   "execution_count": 37,
   "id": "3820934a",
   "metadata": {},
   "outputs": [
    {
     "name": "stdout",
     "output_type": "stream",
     "text": [
      "[5.87848961e-05 9.12326623e-05 9.62825340e-05 ... 1.41512233e-04\n",
      " 1.72180743e-04 9.82502480e-05]\n"
     ]
    }
   ],
   "source": [
    "print(spike_amps)"
   ]
  },
  {
   "cell_type": "code",
   "execution_count": 35,
   "id": "a8181af0",
   "metadata": {
    "scrolled": true
   },
   "outputs": [
    {
     "name": "stdout",
     "output_type": "stream",
     "text": [
      "alf/probe00/pykilosort/_phy_spikes_subset.channels.npy\n",
      "alf/probe00/pykilosort/channels.brainLocationIds_ccf_2017.npy\n",
      "alf/probe00/pykilosort/channels.localCoordinates.npy\n",
      "alf/probe00/pykilosort/channels.mlapdv.npy\n",
      "alf/probe00/pykilosort/channels.rawInd.npy\n",
      "alf/probe00/pykilosort/clusters.channels.npy\n",
      "raw_ephys_data/_spikeglx_sync.channels.npy\n",
      "raw_ephys_data/probe00/_spikeglx_sync.channels.probe00.npy\n"
     ]
    }
   ],
   "source": [
    "import re\n",
    "for d in dsets:\n",
    "    if re.search('channels', d)!=None:\n",
    "        print(d)"
   ]
  },
  {
   "cell_type": "code",
   "execution_count": 49,
   "id": "7aba928c",
   "metadata": {
    "scrolled": true
   },
   "outputs": [],
   "source": [
    "channels=one.load_dataset(eid, 'alf/probe00/pykilosort/clusters.channels.npy')\n",
    "brain_areas=one.load_dataset(eid, 'channels.brainLocationIds_ccf_2017.npy')"
   ]
  },
  {
   "cell_type": "code",
   "execution_count": 55,
   "id": "3265ad34",
   "metadata": {},
   "outputs": [
    {
     "data": {
      "text/plain": [
       "array([  0,   1,   1,   2,   3,   3,   3,   3,   3,   3,   3,   3,   3,\n",
       "         3,   5,   7,   3,   3,   4,   6,   8,   9,   9,  11,  11,  12,\n",
       "        14,  15,  15,  16,  18,  18,  18,  22,  19,  19,  19,  21,  23,\n",
       "        24,  24,  25,  25,  25,  27,  27,  27,  29,  30,  30,  30,  30,\n",
       "        31,  31,  32,  33,  33,  34,  32,  34,  34,  34,  35,  35,  38,\n",
       "        38,  43,  45,  46,  46,  51,  63,  51,  57,  59,  63,  65,  65,\n",
       "        69,  70,  70,  72,  73,  75,  74,  74,  76,  77,  78,  80,  82,\n",
       "        82,  84,  85,  86,  86,  87,  87,  88,  88,  89,  91,  91,  91,\n",
       "        91,  91,  91,  95,  95, 102, 102, 109, 114, 114, 114, 114, 114,\n",
       "       114, 128, 114, 133, 134, 134, 138, 138, 151, 142, 146, 146, 150,\n",
       "       153, 151, 151, 151, 151, 154, 154, 166, 166, 166, 191, 191, 191,\n",
       "       220, 220, 237, 239, 239, 245, 249, 250, 250, 252, 254, 255, 255,\n",
       "       254, 257, 258, 258, 259, 263, 263, 264, 264, 265, 266, 268, 268,\n",
       "       269, 270, 270, 270, 269, 271, 269, 272, 272, 273, 274, 275, 278,\n",
       "       277, 278, 278, 281, 283, 289, 291, 292, 295, 296, 297, 298, 299,\n",
       "       300, 301, 302, 302, 302, 304, 304, 305, 305, 305, 306, 306, 308,\n",
       "       308, 313, 309, 310, 310, 312, 313, 313, 321, 313, 314, 315, 317,\n",
       "       318, 313, 321, 321, 323, 325, 325, 326, 329, 378, 378,   1,   8,\n",
       "        18,  18,  19,  21,  23,  23,  24,  26,  25,  25,  43,  46,  46,\n",
       "        65,  65,  70,  86,  87,  87,  88,  88,  88,  91,  91,  91,  91,\n",
       "       102, 109, 151, 154, 249, 249, 269, 270, 271, 273, 275, 276, 289,\n",
       "       294, 304, 305, 305, 308, 313, 311, 310, 312, 323, 329, 329, 367,\n",
       "         6,  18,  23,  70,  70,  86, 102, 154, 294, 323,  86, 292])"
      ]
     },
     "execution_count": 55,
     "metadata": {},
     "output_type": "execute_result"
    }
   ],
   "source": [
    "channels"
   ]
  },
  {
   "cell_type": "code",
   "execution_count": 54,
   "id": "878396d4",
   "metadata": {
    "scrolled": true
   },
   "outputs": [
    {
     "name": "stdout",
     "output_type": "stream",
     "text": [
      "alf/probe00/pykilosort/clusters.amps.npy\n",
      "alf/probe00/pykilosort/clusters.channels.npy\n",
      "alf/probe00/pykilosort/clusters.depths.npy\n",
      "alf/probe00/pykilosort/clusters.metrics.pqt\n",
      "alf/probe00/pykilosort/clusters.peakToTrough.npy\n",
      "alf/probe00/pykilosort/clusters.uuids.csv\n",
      "alf/probe00/pykilosort/clusters.waveforms.npy\n",
      "alf/probe00/pykilosort/clusters.waveformsChannels.npy\n",
      "alf/probe00/pykilosort/spikes.clusters.npy\n"
     ]
    }
   ],
   "source": [
    "import re\n",
    "for d in dsets:\n",
    "    if re.search('clusters', d)!=None:\n",
    "        print(d)"
   ]
  },
  {
   "cell_type": "code",
   "execution_count": 56,
   "id": "c1fc12d8",
   "metadata": {},
   "outputs": [],
   "source": [
    "import numpy as np\n",
    "\n",
    "# Load the channel numbers for each cluster\n",
    "channels = one.load_dataset(eid, 'alf/probe00/pykilosort/clusters.channels.npy')\n",
    "\n",
    "# Load the brain area for each channel\n",
    "brain_areas = one.load_dataset(eid, 'channels.brainLocationIds_ccf_2017.npy')\n",
    "\n",
    "# Use numpy.take() to select the corresponding brain area for each channel in the clusters.channels file\n",
    "cluster_brain_areas = np.take(brain_areas, channels)"
   ]
  },
  {
   "cell_type": "code",
   "execution_count": 57,
   "id": "b5157807",
   "metadata": {},
   "outputs": [
    {
     "name": "stdout",
     "output_type": "stream",
     "text": [
      "[ 313  313  313  313  313  313  313  313  313  313  313  313  313  313\n",
      "  313  313  313  313  313  313  313  313  313  874  874  874  874  874\n",
      "  874  874  874  874  874  874  874  874  874  874  874  874  874  874\n",
      "  874  874  874  874  874  874  874  874  874  874  874  874  874  874\n",
      "  874  874  874  874  874  874  874  874  874  874  313  313  313  313\n",
      "  313  313  313  313  313  313  313  313  313  313  313  313  313  313\n",
      "  313  313  313  313  313  313  313  313  313  313  313  313  313  313\n",
      "  482  482  482  482  482  482  482  482  482  482  482  482  482  482\n",
      "  482  482  482  482  482  482 1084  482 1084 1084 1084 1037 1037 1037\n",
      " 1037 1037 1037 1037 1037 1037 1037 1037 1037 1037 1037 1037 1037 1037\n",
      " 1037 1037 1037  971  971   33   33   33   33   33   33   33   33   33\n",
      "   33   33   33  778  778  778  778  778  778  778  778  778  778  778\n",
      "  778  778  778  778  778  778  778  778  778  778  778  778  778  721\n",
      "  778  721  721  721  721  721  821  821  821  821  821  821  821  821\n",
      "  821  821  821  821  821  821  821  821  821  821  821  821  821  821\n",
      "  821  821  821  821  821  821  593  821  821  821  593  593  821  593\n",
      "  593  593  593  593  593    0    0    0  313  313  874  874  874  874\n",
      "  874  874  874  874  874  874  313  313  313  313  313  313  313  313\n",
      "  313  482  482  482  482  482  482  482  482  482 1037 1037   33   33\n",
      "  778  778  778  778  778  778  721  821  821  821  821  821  821  821\n",
      "  821  821  593    0    0    0  313  874  874  313  313  313  482 1037\n",
      "  821  593  313  821]\n"
     ]
    }
   ],
   "source": [
    "print(cluster_brain_areas)"
   ]
  }
 ],
 "metadata": {
  "kernelspec": {
   "display_name": "Python 3",
   "language": "python",
   "name": "python3"
  },
  "language_info": {
   "codemirror_mode": {
    "name": "ipython",
    "version": 3
   },
   "file_extension": ".py",
   "mimetype": "text/x-python",
   "name": "python",
   "nbconvert_exporter": "python",
   "pygments_lexer": "ipython3",
   "version": "3.7.10"
  }
 },
 "nbformat": 4,
 "nbformat_minor": 5
}
