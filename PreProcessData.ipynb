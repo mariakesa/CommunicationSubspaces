{
 "cells": [
  {
   "cell_type": "code",
   "execution_count": 12,
   "id": "34d65f7e",
   "metadata": {},
   "outputs": [],
   "source": [
    "from one.api import ONE\n",
    "import numpy as np\n",
    "import brainbox"
   ]
  },
  {
   "cell_type": "code",
   "execution_count": 19,
   "id": "1d5c3af6",
   "metadata": {
    "scrolled": true
   },
   "outputs": [
    {
     "name": "stdout",
     "output_type": "stream",
     "text": [
      "['alf/_ibl_bodyCamera.dlc.pqt', 'alf/_ibl_bodyCamera.times.npy', 'alf/_ibl_leftCamera.dlc.pqt', 'alf/_ibl_leftCamera.features.pqt', 'alf/_ibl_leftCamera.times.npy', 'alf/_ibl_rightCamera.dlc.pqt', 'alf/_ibl_rightCamera.features.pqt', 'alf/_ibl_rightCamera.times.npy', 'alf/_ibl_trials.goCueTrigger_times.npy', 'alf/_ibl_trials.stimOff_times.npy', 'alf/_ibl_trials.table.pqt', 'alf/_ibl_wheel.position.npy', 'alf/_ibl_wheel.timestamps.npy', 'alf/_ibl_wheelMoves.intervals.npy', 'alf/_ibl_wheelMoves.peakAmplitude.npy', 'alf/bodyCamera.ROIMotionEnergy.npy', 'alf/bodyROIMotionEnergy.position.npy', 'alf/leftCamera.ROIMotionEnergy.npy', 'alf/leftROIMotionEnergy.position.npy', 'alf/licks.times.npy', 'alf/probe00/electrodeSites.brainLocationIds_ccf_2017.npy', 'alf/probe00/electrodeSites.localCoordinates.npy', 'alf/probe00/electrodeSites.mlapdv.npy', 'alf/probe00/pykilosort/_ibl_log.info_pykilosort.log', 'alf/probe00/pykilosort/_kilosort_whitening.matrix.npy', 'alf/probe00/pykilosort/_phy_spikes_subset.channels.npy', 'alf/probe00/pykilosort/_phy_spikes_subset.spikes.npy', 'alf/probe00/pykilosort/_phy_spikes_subset.waveforms.npy', 'alf/probe00/pykilosort/channels.brainLocationIds_ccf_2017.npy', 'alf/probe00/pykilosort/channels.localCoordinates.npy', 'alf/probe00/pykilosort/channels.mlapdv.npy', 'alf/probe00/pykilosort/channels.rawInd.npy', 'alf/probe00/pykilosort/clusters.amps.npy', 'alf/probe00/pykilosort/clusters.channels.npy', 'alf/probe00/pykilosort/clusters.depths.npy', 'alf/probe00/pykilosort/clusters.metrics.pqt', 'alf/probe00/pykilosort/clusters.peakToTrough.npy', 'alf/probe00/pykilosort/clusters.uuids.csv', 'alf/probe00/pykilosort/clusters.waveforms.npy', 'alf/probe00/pykilosort/clusters.waveformsChannels.npy', 'alf/probe00/pykilosort/drift.times.npy', 'alf/probe00/pykilosort/drift.um.npy', 'alf/probe00/pykilosort/drift_depths.um.npy', 'alf/probe00/pykilosort/spikes.amps.npy', 'alf/probe00/pykilosort/spikes.clusters.npy', 'alf/probe00/pykilosort/spikes.depths.npy', 'alf/probe00/pykilosort/spikes.samples.npy', 'alf/probe00/pykilosort/spikes.templates.npy', 'alf/probe00/pykilosort/spikes.times.npy', 'alf/probe00/pykilosort/templates.amps.npy', 'alf/probe00/pykilosort/templates.waveforms.npy', 'alf/probe00/pykilosort/templates.waveformsChannels.npy', 'alf/probes.description.json', 'alf/rightCamera.ROIMotionEnergy.npy', 'alf/rightROIMotionEnergy.position.npy', 'raw_ephys_data/_spikeglx_ephysData_g0_t0.nidq.cbin', 'raw_ephys_data/_spikeglx_ephysData_g0_t0.nidq.ch', 'raw_ephys_data/_spikeglx_ephysData_g0_t0.nidq.meta', 'raw_ephys_data/_spikeglx_sync.channels.npy', 'raw_ephys_data/_spikeglx_sync.polarities.npy', 'raw_ephys_data/_spikeglx_sync.times.npy', 'raw_ephys_data/probe00/_iblqc_ephysChannels.apRMS.npy', 'raw_ephys_data/probe00/_iblqc_ephysSpectralDensityAP.freqs.npy', 'raw_ephys_data/probe00/_iblqc_ephysSpectralDensityAP.power.npy', 'raw_ephys_data/probe00/_iblqc_ephysSpectralDensityLF.freqs.npy', 'raw_ephys_data/probe00/_iblqc_ephysSpectralDensityLF.power.npy', 'raw_ephys_data/probe00/_iblqc_ephysTimeRmsLF.rms.npy', 'raw_ephys_data/probe00/_iblqc_ephysTimeRmsLF.timestamps.npy', 'raw_ephys_data/probe00/_spikeglx_ephysData_g0_t0.imec0.ap.cbin', 'raw_ephys_data/probe00/_spikeglx_ephysData_g0_t0.imec0.ap.ch', 'raw_ephys_data/probe00/_spikeglx_ephysData_g0_t0.imec0.ap.meta', 'raw_ephys_data/probe00/_spikeglx_ephysData_g0_t0.imec0.lf.cbin', 'raw_ephys_data/probe00/_spikeglx_ephysData_g0_t0.imec0.lf.ch', 'raw_ephys_data/probe00/_spikeglx_ephysData_g0_t0.imec0.lf.meta', 'raw_ephys_data/probe00/_spikeglx_ephysData_g0_t0.imec0.sync.npy', 'raw_ephys_data/probe00/_spikeglx_ephysData_g0_t0.imec0.timestamps.npy', 'raw_ephys_data/probe00/_spikeglx_ephysData_g0_t0.imec0.wiring.json', 'raw_ephys_data/probe00/_spikeglx_sync.channels.probe00.npy', 'raw_ephys_data/probe00/_spikeglx_sync.polarities.probe00.npy', 'raw_ephys_data/probe00/_spikeglx_sync.times.probe00.npy', 'raw_video_data/_iblrig_bodyCamera.raw.mp4', 'raw_video_data/_iblrig_leftCamera.raw.mp4', 'raw_video_data/_iblrig_rightCamera.raw.mp4']\n"
     ]
    }
   ],
   "source": [
    "#Load rasters\n",
    "\n",
    "from one.api import ONE\n",
    "one = ONE(base_url='https://openalyx.internationalbrainlab.org', password='international', silent=True)\n",
    "eid = '58b1e920-cfc8-467e-b28b-7654a55d0977'\n",
    "dsets = one.list_datasets(eid)\n",
    "print(dsets)"
   ]
  },
  {
   "cell_type": "code",
   "execution_count": 22,
   "id": "32524144",
   "metadata": {
    "scrolled": true
   },
   "outputs": [
    {
     "name": "stdout",
     "output_type": "stream",
     "text": [
      "alf/_ibl_trials.goCueTrigger_times.npy\n",
      "alf/_ibl_trials.stimOff_times.npy\n",
      "alf/_ibl_trials.table.pqt\n"
     ]
    }
   ],
   "source": [
    "import re\n",
    "for d in dsets:\n",
    "    if re.search('trials', d)!=None:\n",
    "        print(d)"
   ]
  },
  {
   "cell_type": "code",
   "execution_count": 23,
   "id": "e1bbcf23",
   "metadata": {
    "scrolled": true
   },
   "outputs": [
    {
     "name": "stderr",
     "output_type": "stream",
     "text": [
      "/home/maria/Downloads/ONE/openalyx.internationalbrainlab.org/wittenlab/Subjects/ibl_witten_29/2021-06-19/001/alf/_ibl_trials.table.pqt: 100%|██████████| 58.4k/58.4k [00:00<00:00, 66.9kB/s]"
     ]
    },
    {
     "name": "stdout",
     "output_type": "stream",
     "text": [
      "         feedback_times  choice  feedbackType  contrastLeft  rewardVolume  \\\n",
      "trial_#                                                                     \n",
      "0             77.552936      -1             1           NaN           1.5   \n",
      "1             82.317826      -1             1           NaN           1.5   \n",
      "2             88.602187      -1            -1        0.0000           0.0   \n",
      "3             97.802736      -1             1           NaN           1.5   \n",
      "4            102.626654      -1             1           NaN           1.5   \n",
      "...                 ...     ...           ...           ...           ...   \n",
      "723         3536.388917       1             1        1.0000           1.5   \n",
      "724         3555.066952      -1            -1        0.0000           0.0   \n",
      "725         3605.015008      -1            -1        0.0625           0.0   \n",
      "726         3657.927180      -1             1           NaN           1.5   \n",
      "727         5088.099369       0            -1        0.0625           0.0   \n",
      "\n",
      "         contrastRight  probabilityLeft  stimOn_times  firstMovement_times  \\\n",
      "trial_#                                                                      \n",
      "0                1.000              0.5     77.225604            77.401133   \n",
      "1                0.125              0.5     81.963164            82.053133   \n",
      "2                  NaN              0.5     87.008824            87.948133   \n",
      "3                0.125              0.5     93.029780            97.716133   \n",
      "4                0.250              0.5    102.346284           102.378133   \n",
      "...                ...              ...           ...                  ...   \n",
      "723                NaN              0.8   3535.351194          3535.693133   \n",
      "724                NaN              0.8   3542.013348          3554.850133   \n",
      "725                NaN              0.8   3559.496911          3604.885133   \n",
      "726              0.250              0.8   3610.483423          3656.454133   \n",
      "727                NaN              0.8   3667.716133          3761.881133   \n",
      "\n",
      "         goCue_times  response_times  intervals_0  intervals_1  \n",
      "trial_#                                                         \n",
      "0          77.226671       77.552815    73.331821    79.108915  \n",
      "1          81.964264       82.317712    79.645112    83.879815  \n",
      "2          87.009858       88.601121    84.320712    91.158328  \n",
      "3          93.030780       97.802648    91.656927    99.358056  \n",
      "4         102.347317      102.626545    99.807755   104.196043  \n",
      "...              ...             ...          ...          ...  \n",
      "723      3535.352194     3536.388810  3534.902709  3537.934814  \n",
      "724      3542.014448     3555.066150  3538.916313  3557.634459  \n",
      "725      3559.497878     3605.013918  3558.739359  3607.562624  \n",
      "726      3610.484223     3657.927091  3608.928123  3659.495695  \n",
      "727      3667.717466     3727.717489  3660.901295  3730.217495  \n",
      "\n",
      "[728 rows x 13 columns]\n"
     ]
    },
    {
     "name": "stderr",
     "output_type": "stream",
     "text": [
      "\n"
     ]
    }
   ],
   "source": [
    "dat = one.load_dataset(eid, 'alf/_ibl_trials.table.pqt')\n",
    "print(dat)"
   ]
  },
  {
   "cell_type": "code",
   "execution_count": null,
   "id": "2eb5887e",
   "metadata": {},
   "outputs": [],
   "source": []
  }
 ],
 "metadata": {
  "kernelspec": {
   "display_name": "Python 3",
   "language": "python",
   "name": "python3"
  },
  "language_info": {
   "codemirror_mode": {
    "name": "ipython",
    "version": 3
   },
   "file_extension": ".py",
   "mimetype": "text/x-python",
   "name": "python",
   "nbconvert_exporter": "python",
   "pygments_lexer": "ipython3",
   "version": "3.7.10"
  }
 },
 "nbformat": 4,
 "nbformat_minor": 5
}
